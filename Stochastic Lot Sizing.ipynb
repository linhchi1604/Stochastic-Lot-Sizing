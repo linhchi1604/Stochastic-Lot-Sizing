{
 "cells": [
  {
   "cell_type": "code",
   "execution_count": 1,
   "id": "d86063b6",
   "metadata": {},
   "outputs": [],
   "source": [
    "# Import packages\n",
    "import pandas as pd\n",
    "import numpy as np\n",
    "from numpy import random as rn\n",
    "rn.seed(1)"
   ]
  },
  {
   "cell_type": "markdown",
   "id": "e2189a10",
   "metadata": {},
   "source": [
    "#### Input data"
   ]
  },
  {
   "cell_type": "code",
   "execution_count": 9,
   "id": "cfd15c94",
   "metadata": {},
   "outputs": [],
   "source": [
    "# Determine parameter\n",
    "prod_cap = 150\n",
    "c_setup = 100\n",
    "c_inventory = 1\n",
    "c_backlog = 3\n",
    "L0 = 0\n",
    "B0 = 0"
   ]
  },
  {
   "cell_type": "markdown",
   "id": "7a83b9d7",
   "metadata": {},
   "source": [
    "#### Generate some samples and calculate the average total costs of all samples"
   ]
  },
  {
   "cell_type": "code",
   "execution_count": 10,
   "id": "80cd4182",
   "metadata": {},
   "outputs": [
    {
     "name": "stdout",
     "output_type": "stream",
     "text": [
      "Average expected cost: 1381.7456\n",
      "CV: 0.22439342190207728\n"
     ]
    }
   ],
   "source": [
    "n_repl = 10000\n",
    "realized_cost = []\n",
    "for _ in range(n_repl):\n",
    "    demand = [20, 50, 10, 50, 50, 10, 20, 40, 20, 30]\n",
    "    stoch_demand = [[10, 20, 30], [70, 50, 30], [25, 0, 5], [50, 50, 50], [70, 40, 40], [11, 9, 10], [23, 27, 10], [35, 42, 43], [10, 10, 40], [30, 30, 30]]\n",
    "    realized_demand = [rn.choice(i) for i in stoch_demand]\n",
    "    clsp = np.zeros(shape=(len(demand), 7))\n",
    "    clsp[:, 0] = realized_demand\n",
    "    clsp[:, 1] = [min(prod_cap, i) for i in demand]\n",
    "    clsp[0, 2] = max(clsp[0, 1] - clsp[0, 0] + L0 - B0, 0)\n",
    "    clsp[0, 3] = -min(clsp[0, 1] - clsp[0, 0] + L0 - B0, 0)\n",
    "    for i in range(1, len(demand)):\n",
    "        delta = clsp[i, 1] - clsp[i, 0] + clsp[i-1, 2] - clsp[i-1, 3]\n",
    "        clsp[i, 2] = max(delta, 0)\n",
    "        clsp[i, 3] = -min(delta, 0)\n",
    "    clsp[:, 4] = [c_setup if i > 0 else 0 for i in clsp[:, 1]]\n",
    "    clsp[:, 5] = clsp[:, 2] * c_inventory\n",
    "    clsp[:, 6] = clsp[:, 3] * c_backlog\n",
    "    total_cost = clsp[:, -3:].sum()\n",
    "    \n",
    "    realized_cost.append(total_cost)\n",
    "\n",
    "print(f'Average expected cost: {np.mean(realized_cost)}')\n",
    "print(f'CV: {np.std(realized_cost) / np.mean(realized_cost)}')"
   ]
  },
  {
   "cell_type": "code",
   "execution_count": null,
   "id": "deaaaf34",
   "metadata": {},
   "outputs": [],
   "source": []
  }
 ],
 "metadata": {
  "kernelspec": {
   "display_name": "Python 3 (ipykernel)",
   "language": "python",
   "name": "python3"
  },
  "language_info": {
   "codemirror_mode": {
    "name": "ipython",
    "version": 3
   },
   "file_extension": ".py",
   "mimetype": "text/x-python",
   "name": "python",
   "nbconvert_exporter": "python",
   "pygments_lexer": "ipython3",
   "version": "3.10.9"
  }
 },
 "nbformat": 4,
 "nbformat_minor": 5
}
